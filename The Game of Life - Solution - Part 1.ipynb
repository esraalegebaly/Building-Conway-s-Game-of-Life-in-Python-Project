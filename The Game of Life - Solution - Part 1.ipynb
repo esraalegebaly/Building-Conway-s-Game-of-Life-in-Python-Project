{
 "cells": [
  {
   "cell_type": "code",
   "execution_count": null,
   "id": "a1c44a8c",
   "metadata": {},
   "outputs": [],
   "source": [
    "import matplotlib.pyplot as plt"
   ]
  },
  {
   "cell_type": "code",
   "execution_count": null,
   "id": "ec982fce",
   "metadata": {},
   "outputs": [],
   "source": [
    "class GameOfLife(object):  \n",
    "\n",
    "    def __init__(self, x_dim, y_dim):\n",
    "\n",
    "        # Initialize life_grid as a 2D list filled with zeros. \n",
    "        # The dimensions of the grid are x_dim rows by y_dim columns.\n",
    "        self.life_grid = [[0 for _ in range(y_dim)] for _ in range(x_dim)]"
   ]
  },
  {
   "cell_type": "code",
   "execution_count": null,
   "id": "6291cc16",
   "metadata": {},
   "outputs": [],
   "source": [
    "# Create a GameOfLife object with a 3x3 grid\n",
    "game = GameOfLife(3, 3)\n",
    "\n",
    "# Print the life_grid\n",
    "game.life_grid"
   ]
  }
 ],
 "metadata": {
  "kernelspec": {
   "display_name": "Python 3 (ipykernel)",
   "language": "python",
   "name": "python3"
  },
  "language_info": {
   "codemirror_mode": {
    "name": "ipython",
    "version": 3
   },
   "file_extension": ".py",
   "mimetype": "text/x-python",
   "name": "python",
   "nbconvert_exporter": "python",
   "pygments_lexer": "ipython3",
   "version": "3.8.8"
  }
 },
 "nbformat": 4,
 "nbformat_minor": 5
}
