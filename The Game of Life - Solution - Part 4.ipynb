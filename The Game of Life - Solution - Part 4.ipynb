{
 "cells": [
  {
   "cell_type": "code",
   "execution_count": null,
   "id": "a1c44a8c",
   "metadata": {},
   "outputs": [],
   "source": [
    "import matplotlib.pyplot as plt"
   ]
  },
  {
   "cell_type": "code",
   "execution_count": null,
   "id": "ec982fce",
   "metadata": {},
   "outputs": [],
   "source": [
    "class GameOfLife(object):  \n",
    "  \n",
    "    def __init__(self, x_dim, y_dim):\n",
    "    \n",
    "        # Initialize life_grid as a 2D list filled with zeros. \n",
    "        # The dimensions of the grid are x_dim rows by y_dim columns.\n",
    "        self.life_grid = [[0 for _ in range(y_dim)] for _ in range(x_dim)]\n",
    "\n",
    "    def get_grid(self):\n",
    "      \n",
    "        # Return the grid.\n",
    "        return self.life_grid\n",
    "    \n",
    "    def print_grid(self):\n",
    "    \n",
    "        # Iterate through each row in the grid\n",
    "        for i in range(len(self.life_grid)):\n",
    "            # For each cell in the current row, print its value followed by a pipe character\n",
    "            # 'end = ' ' ensures that each cell value in a row is printed on the same line\n",
    "            for j in range(len(self.life_grid[i])):\n",
    "                print(self.life_grid[i][j], '|', end = ' ')\n",
    "            # After printing all cell values in a row, print a newline character\n",
    "            print()\n",
    "            # Print a dashed line to visually separate the rows\n",
    "            print('- '*6)\n",
    "\n",
    "    def populate_grid(self, coord):\n",
    "    \n",
    "        # Loop through each set of coordinates\n",
    "        for i in coord: \n",
    "            # Set the value at the specific coordinates (i[0], i[1]) in the life_grid to 1. \n",
    "            # This represents that the cell at these coordinates is alive.\n",
    "            self.life_grid[i[0]][i[1]] = 1\n",
    "        \n",
    "        # Return the updated life_grid with the designated cells set to 1, representing live cells.\n",
    "        return self.life_grid"
   ]
  },
  {
   "cell_type": "code",
   "execution_count": null,
   "id": "6291cc16",
   "metadata": {},
   "outputs": [],
   "source": [
    "# Initialize a 3x3 game\n",
    "game = GameOfLife(3, 3)\n",
    "\n",
    "# Populate the grid\n",
    "game.populate_grid([[1, 1], [2, 2]])\n",
    "\n",
    "# Test the populate_grid method by printing the grid\n",
    "game.print_grid()  "
   ]
  }
 ],
 "metadata": {
  "kernelspec": {
   "display_name": "Python 3 (ipykernel)",
   "language": "python",
   "name": "python3"
  },
  "language_info": {
   "codemirror_mode": {
    "name": "ipython",
    "version": 3
   },
   "file_extension": ".py",
   "mimetype": "text/x-python",
   "name": "python",
   "nbconvert_exporter": "python",
   "pygments_lexer": "ipython3",
   "version": "3.8.8"
  }
 },
 "nbformat": 4,
 "nbformat_minor": 5
}
